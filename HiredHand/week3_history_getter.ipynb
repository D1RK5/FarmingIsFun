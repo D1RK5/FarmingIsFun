{
 "cells": [
  {
   "cell_type": "code",
   "execution_count": 1,
   "id": "5f3c4a36",
   "metadata": {},
   "outputs": [],
   "source": [
    "import pandas as pd\n",
    "import numpy as np\n",
    "import os\n",
    "import sys\n",
    "\n",
    "import xarray as xr"
   ]
  },
  {
   "cell_type": "code",
   "execution_count": 10,
   "id": "a8f547ef",
   "metadata": {},
   "outputs": [
    {
     "name": "stderr",
     "output_type": "stream",
     "text": [
      "/var/folders/bq/m4r5txkx6sn3bm39znnv3bl40000gq/T/ipykernel_63709/2958468022.py:1: SerializationWarning: Unable to decode time axis into full numpy.datetime64 objects, continuing using cftime.datetime objects instead, reason: dates prior reform date (1582-10-15). To silence this warning specify 'use_cftime=True'.\n",
      "  dsMax = xr.open_dataset('http://psl.noaa.gov/thredds/dodsC/Datasets/cpc_global_temp/tmax.day.ltm.1991-2020.nc')\n",
      "/var/folders/bq/m4r5txkx6sn3bm39znnv3bl40000gq/T/ipykernel_63709/2958468022.py:1: SerializationWarning: Unable to decode time axis into full numpy.datetime64 objects, continuing using cftime.datetime objects instead, reason: dates prior reform date (1582-10-15). To silence this warning specify 'use_cftime=True'.\n",
      "  dsMax = xr.open_dataset('http://psl.noaa.gov/thredds/dodsC/Datasets/cpc_global_temp/tmax.day.ltm.1991-2020.nc')\n",
      "/var/folders/bq/m4r5txkx6sn3bm39znnv3bl40000gq/T/ipykernel_63709/2958468022.py:2: SerializationWarning: Unable to decode time axis into full numpy.datetime64 objects, continuing using cftime.datetime objects instead, reason: dates prior reform date (1582-10-15). To silence this warning specify 'use_cftime=True'.\n",
      "  dsMin = xr.open_dataset('http://psl.noaa.gov/thredds/dodsC/Datasets/cpc_global_temp/tmin.day.ltm.1991-2020.nc')\n",
      "/var/folders/bq/m4r5txkx6sn3bm39znnv3bl40000gq/T/ipykernel_63709/2958468022.py:2: SerializationWarning: Unable to decode time axis into full numpy.datetime64 objects, continuing using cftime.datetime objects instead, reason: dates prior reform date (1582-10-15). To silence this warning specify 'use_cftime=True'.\n",
      "  dsMin = xr.open_dataset('http://psl.noaa.gov/thredds/dodsC/Datasets/cpc_global_temp/tmin.day.ltm.1991-2020.nc')\n"
     ]
    }
   ],
   "source": [
    "dsMax = xr.open_dataset('http://psl.noaa.gov/thredds/dodsC/Datasets/cpc_global_temp/tmax.day.ltm.1991-2020.nc')\n",
    "dsMin = xr.open_dataset('http://psl.noaa.gov/thredds/dodsC/Datasets/cpc_global_temp/tmin.day.ltm.1991-2020.nc')\n",
    "\n"
   ]
  },
  {
   "cell_type": "code",
   "execution_count": 6,
   "id": "e9522a21",
   "metadata": {},
   "outputs": [],
   "source": [
    "ourLittlefarm = (41.034468950000004, 266.1135534)"
   ]
  },
  {
   "cell_type": "code",
   "execution_count": null,
   "id": "8583599e",
   "metadata": {},
   "outputs": [],
   "source": [
    "farmMax = dsMax.sel(lat=ourLittlefarm[0], lon=ourLittlefarm[1], method='nearest')\n",
    "farmMin = dsMin.sel(lat=ourLittlefarm[0], lon=ourLittlefarm[1], method='nearest')"
   ]
  },
  {
   "cell_type": "code",
   "execution_count": 12,
   "id": "d52483bf",
   "metadata": {},
   "outputs": [],
   "source": [
    "farmMaxDF = farmMax.to_dataframe()\n",
    "farmMinDF = farmMin.to_dataframe()"
   ]
  },
  {
   "cell_type": "code",
   "execution_count": null,
   "id": "d47fd398",
   "metadata": {},
   "outputs": [],
   "source": [
    "farmMaxDF.reset_index(inplace=True)\n",
    "farmMaxDF = farmMaxDF[['time','tmax']].drop_duplicates()\n",
    "\n",
    "farmMinDF.reset_index(inplace=True)\n",
    "farmMinDF = farmMinDF[['time','tmin']].drop_duplicates()\n",
    "\n",
    "farmSeasonal = pd.merge(farmMaxDF, farmMinDF, on='time', how='outer')\n",
    "farmSeasonal['date'] = farmSeasonal['time'].apply(lambda x: x.strftime('%m-%d'))\n",
    "farmSeasonal.to_csv('farmSeasonal.csv', index=False)"
   ]
  },
  {
   "cell_type": "code",
   "execution_count": null,
   "id": "dcc7b99f",
   "metadata": {},
   "outputs": [],
   "source": []
  },
  {
   "cell_type": "code",
   "execution_count": null,
   "id": "70bc9a9f",
   "metadata": {},
   "outputs": [],
   "source": []
  },
  {
   "cell_type": "code",
   "execution_count": null,
   "id": "ae894d31",
   "metadata": {},
   "outputs": [],
   "source": []
  }
 ],
 "metadata": {
  "kernelspec": {
   "display_name": "dirk",
   "language": "python",
   "name": "python3"
  },
  "language_info": {
   "codemirror_mode": {
    "name": "ipython",
    "version": 3
   },
   "file_extension": ".py",
   "mimetype": "text/x-python",
   "name": "python",
   "nbconvert_exporter": "python",
   "pygments_lexer": "ipython3",
   "version": "3.13.3"
  }
 },
 "nbformat": 4,
 "nbformat_minor": 5
}
